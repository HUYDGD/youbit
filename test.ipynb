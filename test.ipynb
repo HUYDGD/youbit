{
 "cells": [
  {
   "cell_type": "code",
   "execution_count": 3,
   "metadata": {},
   "outputs": [],
   "source": [
    "with open('E:/poop.txt', 'at') as f:\n",
    "    f.write('&^*@#$%HG@#$K%JKH@#$K%JHG@#$KJHG')"
   ]
  }
 ],
 "metadata": {
  "kernelspec": {
   "display_name": "Python 3.9.13 ('youbit-qW6Zb4xf-py3.9')",
   "language": "python",
   "name": "python3"
  },
  "language_info": {
   "codemirror_mode": {
    "name": "ipython",
    "version": 3
   },
   "file_extension": ".py",
   "mimetype": "text/x-python",
   "name": "python",
   "nbconvert_exporter": "python",
   "pygments_lexer": "ipython3",
   "version": "3.9.13"
  },
  "orig_nbformat": 4,
  "vscode": {
   "interpreter": {
    "hash": "2f2400232e7076272f3d8a3a5df22676f4cca17843ea1926ff7d463202812ac5"
   }
  }
 },
 "nbformat": 4,
 "nbformat_minor": 2
}
